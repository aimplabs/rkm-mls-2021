{
 "cells": [
  {
   "cell_type": "markdown",
   "metadata": {},
   "source": [
    "# Advanced Python II: Object-Oriented Python"
   ]
  },
  {
   "cell_type": "markdown",
   "metadata": {},
   "source": [
    "## Review Questions\n",
    "\n",
    "1. Classes (data attributes and method attributes, class constructors)\n",
    "\n",
    "2. Three pillars of OO-Python: Encapsulation, inheritance, polymorphism\n",
    "\n",
    "3. Multiple inheritance and method resolution order (MRO); class constructors for multiple inheritance\n",
    "\n",
    "4. Concepts of public-private-protected in relation to classes\n",
    "\n",
    "5. Decorators, overloading, polymorphism\n",
    "\n",
    "6. The \"\\_\\_repr\\_\\_\" vs \"\\_\\_str\\_\\_\" methods"
   ]
  }
 ],
 "metadata": {
  "kernelspec": {
   "display_name": "deepcv",
   "language": "python",
   "name": "deepcv"
  },
  "language_info": {
   "codemirror_mode": {
    "name": "ipython",
    "version": 3
   },
   "file_extension": ".py",
   "mimetype": "text/x-python",
   "name": "python",
   "nbconvert_exporter": "python",
   "pygments_lexer": "ipython3",
   "version": "3.7.1"
  }
 },
 "nbformat": 4,
 "nbformat_minor": 4
}
