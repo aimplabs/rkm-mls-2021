{
 "cells": [
  {
   "cell_type": "markdown",
   "metadata": {},
   "source": [
    "# Unsupervised Learning: Dimensionality reduction and manifold learning"
   ]
  },
  {
   "cell_type": "markdown",
   "metadata": {},
   "source": [
    "## Review Questions\n",
    "\n",
    "1. What are other unsupervised learning techniques besides clustering and dimensionality reduction?\n",
    "\n",
    "2. Why dimenisonality reduction can be seen as manifold learning problem?\n",
    "\n",
    "3. PCA algorithm \n",
    "\n",
    "4. PCA not only helps in dimensionality reduction but it also decorrelates the features: true of false?\n",
    "\n",
    "5. PCA does feature extraction but not feature selection: true or false?\n",
    "\n",
    "6. Derive PCA algorithm from the first principle\n",
    "\n",
    "7. How to choose the optimum number of components in PCA?"
   ]
  }
 ],
 "metadata": {
  "kernelspec": {
   "display_name": "deepcv",
   "language": "python",
   "name": "deepcv"
  },
  "language_info": {
   "codemirror_mode": {
    "name": "ipython",
    "version": 3
   },
   "file_extension": ".py",
   "mimetype": "text/x-python",
   "name": "python",
   "nbconvert_exporter": "python",
   "pygments_lexer": "ipython3",
   "version": "3.7.1"
  }
 },
 "nbformat": 4,
 "nbformat_minor": 4
}
