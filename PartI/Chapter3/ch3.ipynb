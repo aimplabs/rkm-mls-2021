{
 "cells": [
  {
   "cell_type": "markdown",
   "metadata": {},
   "source": [
    "# Machine Learning Types, Supervised Learning with Regression"
   ]
  },
  {
   "cell_type": "markdown",
   "metadata": {},
   "source": [
    "## Review Questions\n",
    "\n",
    "1. How many type of machine learning are there and how do you define them? What distinguishes regression from classification?\n",
    "\n",
    "2. Ordinary least square (OLS): closed form solution; matrix inversion computational complexity (LU factorization)\n",
    "\n",
    "3. Ordinary least square (OLS): gradient descent, hypotheses space vs parameter space\n",
    "\n",
    "4. Does normaization affect the convergence in gradient descent? Does it affect closed form solution?\n",
    "\n",
    "5. Polynomial regression for curve fitting"
   ]
  }
 ],
 "metadata": {
  "kernelspec": {
   "display_name": "deepcv",
   "language": "python",
   "name": "deepcv"
  },
  "language_info": {
   "codemirror_mode": {
    "name": "ipython",
    "version": 3
   },
   "file_extension": ".py",
   "mimetype": "text/x-python",
   "name": "python",
   "nbconvert_exporter": "python",
   "pygments_lexer": "ipython3",
   "version": "3.7.1"
  }
 },
 "nbformat": 4,
 "nbformat_minor": 4
}
