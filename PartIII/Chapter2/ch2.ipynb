{
 "cells": [
  {
   "cell_type": "markdown",
   "metadata": {},
   "source": [
    "# Deep Learning with Pytorch (Multilayer Perceptron) "
   ]
  },
  {
   "cell_type": "markdown",
   "metadata": {},
   "source": [
    "## Review Questions:\n",
    "\n",
    "1. Neural architecture with Pytorch (two ways)\n",
    "\n",
    "2. Multilayer perceptron to classify Fashion-MNIST \n",
    "\n",
    "3. Stages in neural net experiment\n",
    "\n",
    "4. Loss functions and optimizer instance creation\n",
    "\n",
    "5. Training (with and without GPUs) and inference "
   ]
  }
 ],
 "metadata": {
  "kernelspec": {
   "display_name": "deepcv",
   "language": "python",
   "name": "deepcv"
  },
  "language_info": {
   "codemirror_mode": {
    "name": "ipython",
    "version": 3
   },
   "file_extension": ".py",
   "mimetype": "text/x-python",
   "name": "python",
   "nbconvert_exporter": "python",
   "pygments_lexer": "ipython3",
   "version": "3.7.1"
  }
 },
 "nbformat": 4,
 "nbformat_minor": 4
}
