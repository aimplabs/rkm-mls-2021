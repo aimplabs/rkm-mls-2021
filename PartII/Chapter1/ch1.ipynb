{
 "cells": [
  {
   "cell_type": "markdown",
   "metadata": {},
   "source": [
    "# Bayesian View of Parameter Estimation"
   ]
  },
  {
   "cell_type": "markdown",
   "metadata": {},
   "source": [
    "## Review Question\n",
    "\n",
    "1. MLE and MAP estimation of regression \n",
    "\n",
    "2. Proof: under Gaussian noise assumption MLE of $\\theta$ reduces to least square estimate of $\\theta$\n",
    "\n",
    "3. MAP: regularized least square (Gaussian prior leads to L2 regularization, aka ridge regression, whereas, Laplace prior leads to L1 regularization); closed form solution for L2 regularization\n",
    "\n",
    "4. Regularized logistic regression with L2 regularization (gradient descent since closed form solution does not exist for logistic regression)\n"
   ]
  }
 ],
 "metadata": {
  "kernelspec": {
   "display_name": "deepcv",
   "language": "python",
   "name": "deepcv"
  },
  "language_info": {
   "codemirror_mode": {
    "name": "ipython",
    "version": 3
   },
   "file_extension": ".py",
   "mimetype": "text/x-python",
   "name": "python",
   "nbconvert_exporter": "python",
   "pygments_lexer": "ipython3",
   "version": "3.7.1"
  }
 },
 "nbformat": 4,
 "nbformat_minor": 4
}
