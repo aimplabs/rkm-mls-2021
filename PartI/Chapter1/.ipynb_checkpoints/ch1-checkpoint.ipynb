{
 "cells": [
  {
   "cell_type": "markdown",
   "metadata": {},
   "source": [
    "# Setting up Machine Learning Lab"
   ]
  },
  {
   "cell_type": "markdown",
   "metadata": {},
   "source": [
    "## Review Questions\n",
    "\n",
    "1. What is the typical machine learning workflow practised in industry? What are the issues encountered at every stage of the workflow? [1]\n",
    "\n",
    "2. Why virtualization is important? Environment virtualization vs OS level virtualization (pros/cons). \n",
    "\n",
    "3. Tool for environment virtualization (virtual environment in python)\n",
    "\n",
    "4. Tool for system level virtualization (Docker)\n",
    "\n",
    "5. Virtual machine vs Docker \n",
    "\n",
    "6. What is the default port for Jupyter to run? "
   ]
  },
  {
   "cell_type": "markdown",
   "metadata": {},
   "source": [
    "## Reference:\n",
    "\n",
    "1. **Challenges in Deploying Machine Learning: a Survey of Case Studies**, Andrei Paleyes, Raoul-Gabriel Urma, Neil D. Lawrence, 2020"
   ]
  }
 ],
 "metadata": {
  "kernelspec": {
   "display_name": "deepcv",
   "language": "python",
   "name": "deepcv"
  },
  "language_info": {
   "codemirror_mode": {
    "name": "ipython",
    "version": 3
   },
   "file_extension": ".py",
   "mimetype": "text/x-python",
   "name": "python",
   "nbconvert_exporter": "python",
   "pygments_lexer": "ipython3",
   "version": "3.7.1"
  }
 },
 "nbformat": 4,
 "nbformat_minor": 4
}
