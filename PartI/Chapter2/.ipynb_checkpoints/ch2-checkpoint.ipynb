{
 "cells": [
  {
   "cell_type": "markdown",
   "metadata": {},
   "source": [
    "# Fundamental Python and Numerical Python"
   ]
  },
  {
   "cell_type": "markdown",
   "metadata": {},
   "source": [
    "## Review Questions\n",
    "\n",
    "### Fundamental Python (system view) \n",
    "\n",
    "1. Object reference model and immutability in Python\n",
    "\n",
    "2. Why Python is a dynamically referenced but strongly typed language?\n",
    "\n",
    "3. Functional pattern for (survey) data cleaning\n",
    "\n",
    "4. How do command line arguments work? \n",
    "\n",
    "5. How imports work? What is implied by `__name__ == \"__main__\"`?\n",
    "\n",
    "6. How to use `with` context for file operation?\n",
    "\n",
    "### Numerical python\n",
    "\n",
    "1. Why list is slower than numy array?\n",
    "\n",
    "2. Computational complexities of various matrix operations. \n",
    "\n",
    "3. Numpy operations (refer to the numpy chapter of the book) \n",
    "\n",
    "4. Pandas operations (refer to the pandas chapter of the book)\n",
    "\n",
    "5. Matpotlib (refer to the matplotlib chapter of the book)\n"
   ]
  }
 ],
 "metadata": {
  "kernelspec": {
   "display_name": "deepcv",
   "language": "python",
   "name": "deepcv"
  },
  "language_info": {
   "codemirror_mode": {
    "name": "ipython",
    "version": 3
   },
   "file_extension": ".py",
   "mimetype": "text/x-python",
   "name": "python",
   "nbconvert_exporter": "python",
   "pygments_lexer": "ipython3",
   "version": "3.7.1"
  }
 },
 "nbformat": 4,
 "nbformat_minor": 4
}
