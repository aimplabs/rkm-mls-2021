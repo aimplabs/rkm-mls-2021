{
 "cells": [
  {
   "cell_type": "markdown",
   "metadata": {},
   "source": [
    "# Introduction to Computer Vision "
   ]
  },
  {
   "cell_type": "markdown",
   "metadata": {},
   "source": [
    "## Review Questions\n",
    "\n",
    "1. Principles of image acquisition \n",
    "\n",
    "2. Image filtering with convolution\n",
    "\n",
    "3. Image as a signal (Fourier Transform)\n",
    "\n",
    "4. Pattern matching for query image-patch detection (correlation)\n",
    "\n",
    "5. Pattern matching in spatial domain (template matching) vs pattern matching in frequency domain (discrete Fourier transform)\n",
    "\n",
    "6. Template learning as opposed to filter learning (MOSSE filter for object tracking)"
   ]
  }
 ],
 "metadata": {
  "kernelspec": {
   "display_name": "deepcv",
   "language": "python",
   "name": "deepcv"
  },
  "language_info": {
   "codemirror_mode": {
    "name": "ipython",
    "version": 3
   },
   "file_extension": ".py",
   "mimetype": "text/x-python",
   "name": "python",
   "nbconvert_exporter": "python",
   "pygments_lexer": "ipython3",
   "version": "3.7.1"
  }
 },
 "nbformat": 4,
 "nbformat_minor": 4
}
